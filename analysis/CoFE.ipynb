{
 "cells": [
  {
   "cell_type": "code",
   "execution_count": 1,
   "metadata": {},
   "outputs": [],
   "source": [
    "import pandas as pd"
   ]
  },
  {
   "cell_type": "code",
   "execution_count": null,
   "metadata": {},
   "outputs": [],
   "source": [
    "# # code used to create the data splits\n",
    "# CFS = pd.read_csv('../data/CoFE/CFS_without_debates_CFET.tsv', sep='\\t')\n",
    "# proposals = pd.read_csv('../data/CoFE/prop_CF_all.tsv', sep='\\t')\n",
    "# CoFE_train = pd.merge(proposals, CFS.drop('Topic', axis=1), left_on='id', right_on='id_prop', suffixes=('_prop', '_cm'))\n",
    "# CoFE_train = CoFE_train.loc[:, ~CoFE_train.columns.duplicated()]\n",
    "# CoFE_train.to_csv('../data/CoFE/CoFE_train.csv', index=None)"
   ]
  }
 ],
 "metadata": {
  "kernelspec": {
   "display_name": "venv",
   "language": "python",
   "name": "python3"
  },
  "language_info": {
   "codemirror_mode": {
    "name": "ipython",
    "version": 3
   },
   "file_extension": ".py",
   "mimetype": "text/x-python",
   "name": "python",
   "nbconvert_exporter": "python",
   "pygments_lexer": "ipython3",
   "version": "3.10.11"
  }
 },
 "nbformat": 4,
 "nbformat_minor": 2
}
