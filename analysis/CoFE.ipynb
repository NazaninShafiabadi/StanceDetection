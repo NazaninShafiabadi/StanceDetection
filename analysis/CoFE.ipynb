{
 "cells": [
  {
   "cell_type": "code",
   "execution_count": 1,
   "metadata": {},
   "outputs": [],
   "source": [
    "import pandas as pd\n",
    "from typing import List"
   ]
  },
  {
   "cell_type": "code",
   "execution_count": 37,
   "metadata": {},
   "outputs": [],
   "source": [
    "def balance_df(df, columns:List, rs=42):\n",
    "    # minimum count of rows for any combination of values in the specified columns\n",
    "    min_count = df.groupby(columns).size().min()\n",
    "    \n",
    "    # sample min_count rows for each column combination\n",
    "    balanced_df = (\n",
    "        df.groupby(columns)[df.columns]\n",
    "          .apply(lambda group: group.sample(min_count, random_state=rs))\n",
    "          .reset_index(drop=True)\n",
    "    )\n",
    "    \n",
    "    return balanced_df.sample(frac=1).reset_index(drop=True)    # shuffle the rows"
   ]
  },
  {
   "cell_type": "code",
   "execution_count": null,
   "metadata": {},
   "outputs": [],
   "source": [
    "# code used to create the data splits\n",
    "\n",
    "# merging the proposals set with the different subsets (train, valid, test)\n",
    "# CFS = pd.read_csv('../data/CoFE/CFS_without_debates_CFET.tsv', sep='\\t')\n",
    "# proposals = pd.read_csv('../data/CoFE/prop_CF_all.tsv', sep='\\t')\n",
    "# CoFE_train = pd.merge(proposals, CFS.drop('Topic', axis=1), left_on='id', right_on='id_prop', suffixes=('_prop', '_cm'))\n",
    "# CoFE_train = CoFE_train.loc[:, ~CoFE_train.columns.duplicated()]\n",
    "# CoFE_train.to_csv('../data/CoFE/CoFE_train.csv', index=None)\n",
    "\n",
    "# keeping only samples where both the target and the comment are in either German, French or English (train set only)\n",
    "# (to avoid balancing with rare languages and dropping too much data)\n",
    "# CoFE_train_filtered = CoFE_train[CoFE_train['lan_prop'].isin(['de', 'fr', 'en']) & CoFE_train['lan_cm'].isin(['de', 'fr', 'en'])]\n",
    "\n",
    "# adding a label column that is exactly the same as the alignment column for consistency during training (train set only)\n",
    "# CoFE_train_filtered['label'] = CoFE_train_filtered['alignment']\n",
    "# CoFE_train_filtered.to_csv('../data/CoFE/CoFE_train_filtered.csv', index=None)\n",
    "\n",
    "# dropping the 'Other' label for consistency with the train set (valid set only)\n",
    "# valid = pd.read_csv('../data/CoFE/CoFE_valid.csv')\n",
    "# valid_filtered = valid[~(valid['label'] == 'Other')]\n",
    "# valid_filtered.to_csv('../data/CoFE/CoFE_valid_filtered.csv', index=None)"
   ]
  }
 ],
 "metadata": {
  "kernelspec": {
   "display_name": "venv",
   "language": "python",
   "name": "python3"
  },
  "language_info": {
   "codemirror_mode": {
    "name": "ipython",
    "version": 3
   },
   "file_extension": ".py",
   "mimetype": "text/x-python",
   "name": "python",
   "nbconvert_exporter": "python",
   "pygments_lexer": "ipython3",
   "version": "3.11.0"
  }
 },
 "nbformat": 4,
 "nbformat_minor": 2
}
