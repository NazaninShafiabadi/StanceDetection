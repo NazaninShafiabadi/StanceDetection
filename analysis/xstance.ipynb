{
 "cells": [
  {
   "cell_type": "code",
   "execution_count": 2,
   "metadata": {},
   "outputs": [],
   "source": [
    "import os, glob\n",
    "import pandas as pd\n",
    "import json\n",
    "import numpy as np\n",
    "import matplotlib.pyplot as plt\n",
    "from functools import reduce\n",
    "from typing import List"
   ]
  },
  {
   "cell_type": "code",
   "execution_count": 3,
   "metadata": {},
   "outputs": [],
   "source": [
    "def compute_accuracy(preds_df, gold_column, pred_column):\n",
    "    return preds_df.groupby('language')[[gold_column, pred_column]]\\\n",
    "        .apply(lambda x: (x[gold_column] == x[pred_column])\\\n",
    "               .mean())\\\n",
    "                .reset_index()\\\n",
    "                    .rename(columns={0: 'accuracy'})"
   ]
  },
  {
   "cell_type": "code",
   "execution_count": 4,
   "metadata": {},
   "outputs": [],
   "source": [
    "def plot(df):\n",
    "    topics = df.index\n",
    "    languages = df.columns\n",
    "    x = np.arange(len(topics))  # label locations\n",
    "    width = 0.2  # bar width\n",
    "\n",
    "    fig, ax = plt.subplots(figsize=(12, 6))\n",
    "    colors = {'de': 'indianred', 'fr': 'royalblue', 'it': 'seagreen'}\n",
    "\n",
    "    # Plot bars for each language\n",
    "    for i, lang in enumerate(languages):\n",
    "        ax.bar(x + i * width, df[lang], width, color=colors[lang], label=lang)\n",
    "\n",
    "    ax.set_xlabel(\"Topic\")\n",
    "    ax.set_ylabel(\"Accuracy\")\n",
    "    ax.set_title(\"Performance by Topic and Language\")\n",
    "    ax.set_xticks(x + width, topics, rotation=45, ha=\"right\")\n",
    "    ax.legend(loc='upper center', ncol=len(languages))\n",
    "    ax.grid(axis=\"y\", linestyle=\"--\", alpha=0.7)\n",
    "\n",
    "    plt.tight_layout()\n",
    "    plt.show()"
   ]
  },
  {
   "cell_type": "code",
   "execution_count": 5,
   "metadata": {},
   "outputs": [],
   "source": [
    "def plot_metrics(model_dir):\n",
    "    last_ckpt = os.path.join(glob.glob(os.path.join(model_dir, 'checkpoint-*'))[-1], 'trainer_state.json')\n",
    "\n",
    "    with open(last_ckpt, 'r') as file:\n",
    "        data = json.load(file)\n",
    "\n",
    "    log_history = (pd.DataFrame(data['log_history'])\n",
    "                .groupby(\"epoch\")\n",
    "                .agg(lambda x: x.dropna().iloc[0] if not x.dropna().empty else None)\n",
    "                .reset_index())\n",
    "    \n",
    "    log_history.plot(x='epoch', \n",
    "                     y=['eval_accuracy', 'eval_loss', 'loss'], \n",
    "                     label=['Validation Accuracy', 'Validation Loss', 'Training Loss'], \n",
    "                     color=['green', 'red', 'maroon'], \n",
    "                     grid=True\n",
    "                     )"
   ]
  },
  {
   "cell_type": "code",
   "execution_count": 6,
   "metadata": {},
   "outputs": [],
   "source": [
    "from scipy.stats import norm\n",
    "\n",
    "def wald_ci(p, n, confidence=0.95):\n",
    "    \"\"\"\n",
    "    Computes a confidence interval using the Gaussian (Wald) method.\n",
    "\n",
    "    Args:\n",
    "        p (float): Proportion of errors (or any rate being measured).\n",
    "        n (int): Sample size.\n",
    "        confidence (float): Confidence level (default is 0.95 for 95% CI).\n",
    "\n",
    "    Returns:\n",
    "        str: Confidence interval as a formatted string \"[lower, upper]\".\n",
    "    \"\"\"\n",
    "    if n == 0:\n",
    "        return \"[0, 0]\"\n",
    "    \n",
    "    z = norm.ppf(1 - (1 - confidence) / 2)  # Compute z-score dynamically\n",
    "    se = np.sqrt(p * (1 - p) / n)  # Standard error\n",
    "    lower = max(0, p - z * se)  # Clamp at 0 to avoid negative proportions\n",
    "    upper = min(1, p + z * se)  # Clamp at 1 to avoid >100% values\n",
    "    \n",
    "    return f\"[{round(lower * 100, 2)}, {round(upper * 100, 2)}]\"\n",
    "\n",
    "def analyze_errors(df, gold_column, pred_column, group_cols, confidence=0.95, compute_ci=False):\n",
    "    \"\"\"\n",
    "    Analyzes prediction errors by language, computing error rates and (optional) confidence intervals.\n",
    "    \"\"\"\n",
    "    def compute_stats(group):\n",
    "        n = len(group)\n",
    "        err_rate = np.mean(group[gold_column] != group[pred_column])\n",
    "        fp_rate = np.mean((group[gold_column] == 'AGAINST') & (group[pred_column] == 'FAVOR'))\n",
    "        fn_rate = np.mean((group[gold_column] == 'FAVOR') & (group[pred_column] == 'AGAINST'))\n",
    "\n",
    "        result = {\n",
    "            'ErrRate (%)': round(err_rate * 100, 2),\n",
    "            'FP (%)': round(fp_rate * 100, 2),\n",
    "            'FN (%)': round(fn_rate * 100, 2)\n",
    "        }\n",
    "\n",
    "        if compute_ci:\n",
    "            result.update({\n",
    "                'ErrRate_CI': wald_ci(err_rate, n, confidence),\n",
    "                'FP_CI': wald_ci(fp_rate, n, confidence),\n",
    "                'FN_CI': wald_ci(fn_rate, n, confidence)\n",
    "            })\n",
    "        \n",
    "        return pd.Series(result)\n",
    "    \n",
    "    return df.groupby(group_cols)[[gold_column, pred_column]].apply(compute_stats).reset_index()"
   ]
  },
  {
   "cell_type": "code",
   "execution_count": 7,
   "metadata": {},
   "outputs": [],
   "source": [
    "def balance_df(df, columns:List, rs=42):\n",
    "    # minimum count of rows for any combination of values in the specified columns\n",
    "    min_count = df.groupby(columns).size().min()\n",
    "    \n",
    "    # sample min_count rows for each column combination\n",
    "    balanced_df = (\n",
    "        df.groupby(columns)\n",
    "          .apply(lambda group: group.sample(min_count, random_state=rs))\n",
    "          .reset_index(drop=True)\n",
    "    )\n",
    "    \n",
    "    return balanced_df.sample(frac=1).reset_index(drop=True)    # shuffle the rows"
   ]
  },
  {
   "cell_type": "markdown",
   "metadata": {},
   "source": [
    "---"
   ]
  },
  {
   "cell_type": "markdown",
   "metadata": {},
   "source": [
    "## Determining Topic Controversy in the Dataset"
   ]
  },
  {
   "cell_type": "code",
   "execution_count": 8,
   "metadata": {},
   "outputs": [
    {
     "data": {
      "text/plain": [
       "<Axes: title={'center': 'Number of Questions per Topic'}, ylabel='topic'>"
      ]
     },
     "execution_count": 8,
     "metadata": {},
     "output_type": "execute_result"
    },
    {
     "data": {
      "image/png": "[encoded data removed]",
      "text/plain": [
       "<Figure size 640x480 with 1 Axes>"
      ]
     },
     "metadata": {},
     "output_type": "display_data"
    }
   ],
   "source": [
    "questions_en = pd.read_json('../data/xstance/questions.en.jsonl', lines=True)\n",
    "questions_en['topic'].value_counts().plot(kind='barh', title='Number of Questions per Topic')"
   ]
  },
  {
   "cell_type": "code",
   "execution_count": 9,
   "metadata": {},
   "outputs": [
    {
     "data": {
      "text/plain": [
       "<Axes: title={'center': 'Number of Comments per Topic'}, ylabel='topic'>"
      ]
     },
     "execution_count": 9,
     "metadata": {},
     "output_type": "execute_result"
    },
    {
     "data": {
      "image/png": "[encoded data removed]",
      "text/plain": [
       "<Figure size 640x480 with 1 Axes>"
      ]
     },
     "metadata": {},
     "output_type": "display_data"
    }
   ],
   "source": [
    "train = pd.read_json('../data/xstance/train.jsonl', lines=True)\n",
    "valid = pd.read_json('../data/xstance/valid.jsonl', lines=True)\n",
    "test = pd.read_json('../data/xstance/test.jsonl', lines=True)\n",
    "all_data = pd.concat([train, valid, test])\n",
    "all_data['topic'].value_counts().plot(kind='barh', title='Number of Comments per Topic')"
   ]
  },
  {
   "cell_type": "code",
   "execution_count": 10,
   "metadata": {},
   "outputs": [
    {
     "data": {
      "text/plain": [
       "<Axes: title={'center': 'Topic Controversy'}, ylabel='topic'>"
      ]
     },
     "execution_count": 10,
     "metadata": {},
     "output_type": "execute_result"
    },
    {
     "data": {
      "image/png": "[encoded data removed]",
      "text/plain": [
       "<Figure size 640x480 with 1 Axes>"
      ]
     },
     "metadata": {},
     "output_type": "display_data"
    }
   ],
   "source": [
    "topic_q_counts = questions_en['topic'].value_counts().reset_index().rename(columns={'count': 'q_count'})\n",
    "topic_cm_counts = all_data['topic'].value_counts().reset_index().rename(columns={'count': 'cm_count'})\n",
    "topic_norm_counts = pd.merge(topic_q_counts, topic_cm_counts, on='topic').assign(norm_count=lambda x: round(x['cm_count'] / x['q_count'], 2)).sort_values('norm_count')\n",
    "topic_norm_counts.plot(kind='barh', x='topic', y='norm_count', title='Topic Controversy')"
   ]
  },
  {
   "cell_type": "code",
   "execution_count": 11,
   "metadata": {},
   "outputs": [
    {
     "data": {
      "text/plain": [
       "<Axes: title={'center': 'Number of comments per question'}, xlabel='question_id'>"
      ]
     },
     "execution_count": 11,
     "metadata": {},
     "output_type": "execute_result"
    },
    {
     "data": {
      "image/png": "[encoded data removed]",
      "text/plain": [
       "<Figure size 2800x1000 with 1 Axes>"
      ]
     },
     "metadata": {},
     "output_type": "display_data"
    }
   ],
   "source": [
    "all_data.groupby('question_id')['comment'].count().plot(kind='bar', figsize=(28, 10), title=\"Number of comments per question\")"
   ]
  },
  {
   "cell_type": "code",
   "execution_count": 12,
   "metadata": {},
   "outputs": [
    {
     "data": {
      "text/html": [
       "<div>\n",
       "<style scoped>\n",
       "    .dataframe tbody tr th:only-of-type {\n",
       "        vertical-align: middle;\n",
       "    }\n",
       "\n",
       "    .dataframe tbody tr th {\n",
       "        vertical-align: top;\n",
       "    }\n",
       "\n",
       "    .dataframe thead th {\n",
       "        text-align: right;\n",
       "    }\n",
       "</style>\n",
       "<table border=\"1\" class=\"dataframe\">\n",
       "  <thead>\n",
       "    <tr style=\"text-align: right;\">\n",
       "      <th></th>\n",
       "      <th>question_id</th>\n",
       "      <th>topic</th>\n",
       "      <th>n_FAVOR</th>\n",
       "      <th>n_AGAINST</th>\n",
       "    </tr>\n",
       "  </thead>\n",
       "  <tbody>\n",
       "    <tr>\n",
       "      <th>0</th>\n",
       "      <td>2</td>\n",
       "      <td>Welfare</td>\n",
       "      <td>303</td>\n",
       "      <td>120</td>\n",
       "    </tr>\n",
       "    <tr>\n",
       "      <th>1</th>\n",
       "      <td>4</td>\n",
       "      <td>Welfare</td>\n",
       "      <td>144</td>\n",
       "      <td>128</td>\n",
       "    </tr>\n",
       "    <tr>\n",
       "      <th>2</th>\n",
       "      <td>6</td>\n",
       "      <td>Welfare</td>\n",
       "      <td>121</td>\n",
       "      <td>179</td>\n",
       "    </tr>\n",
       "    <tr>\n",
       "      <th>3</th>\n",
       "      <td>7</td>\n",
       "      <td>Healthcare</td>\n",
       "      <td>198</td>\n",
       "      <td>157</td>\n",
       "    </tr>\n",
       "    <tr>\n",
       "      <th>4</th>\n",
       "      <td>9</td>\n",
       "      <td>Healthcare</td>\n",
       "      <td>118</td>\n",
       "      <td>110</td>\n",
       "    </tr>\n",
       "    <tr>\n",
       "      <th>...</th>\n",
       "      <td>...</td>\n",
       "      <td>...</td>\n",
       "      <td>...</td>\n",
       "      <td>...</td>\n",
       "    </tr>\n",
       "    <tr>\n",
       "      <th>189</th>\n",
       "      <td>3464</td>\n",
       "      <td>Security</td>\n",
       "      <td>173</td>\n",
       "      <td>105</td>\n",
       "    </tr>\n",
       "    <tr>\n",
       "      <th>190</th>\n",
       "      <td>3468</td>\n",
       "      <td>Foreign Policy</td>\n",
       "      <td>138</td>\n",
       "      <td>311</td>\n",
       "    </tr>\n",
       "    <tr>\n",
       "      <th>191</th>\n",
       "      <td>3469</td>\n",
       "      <td>Foreign Policy</td>\n",
       "      <td>209</td>\n",
       "      <td>162</td>\n",
       "    </tr>\n",
       "    <tr>\n",
       "      <th>192</th>\n",
       "      <td>3470</td>\n",
       "      <td>Foreign Policy</td>\n",
       "      <td>246</td>\n",
       "      <td>189</td>\n",
       "    </tr>\n",
       "    <tr>\n",
       "      <th>193</th>\n",
       "      <td>3471</td>\n",
       "      <td>Foreign Policy</td>\n",
       "      <td>141</td>\n",
       "      <td>119</td>\n",
       "    </tr>\n",
       "  </tbody>\n",
       "</table>\n",
       "<p>194 rows × 4 columns</p>\n",
       "</div>"
      ],
      "text/plain": [
       "     question_id           topic  n_FAVOR  n_AGAINST\n",
       "0              2         Welfare      303        120\n",
       "1              4         Welfare      144        128\n",
       "2              6         Welfare      121        179\n",
       "3              7      Healthcare      198        157\n",
       "4              9      Healthcare      118        110\n",
       "..           ...             ...      ...        ...\n",
       "189         3464        Security      173        105\n",
       "190         3468  Foreign Policy      138        311\n",
       "191         3469  Foreign Policy      209        162\n",
       "192         3470  Foreign Policy      246        189\n",
       "193         3471  Foreign Policy      141        119\n",
       "\n",
       "[194 rows x 4 columns]"
      ]
     },
     "execution_count": 12,
     "metadata": {},
     "output_type": "execute_result"
    }
   ],
   "source": [
    "all_data.groupby(['question_id', 'topic']).agg(\n",
    "    n_FAVOR=('label', lambda x: (x == 'FAVOR').sum()),\n",
    "    n_AGAINST = ('label', lambda x : (x == 'AGAINST').sum())\n",
    ").reset_index()"
   ]
  },
  {
   "cell_type": "markdown",
   "metadata": {},
   "source": [
    "---\n",
    "## Binary"
   ]
  },
  {
   "cell_type": "markdown",
   "metadata": {},
   "source": [
    "### Baseline"
   ]
  },
  {
   "cell_type": "code",
   "execution_count": 13,
   "metadata": {},
   "outputs": [],
   "source": [
    "vanilla_xlmr_preds = pd.read_csv('../predictions/vanilla_XLM-R_preds.csv')\n",
    "vanilla_xlmr_acc = compute_accuracy(vanilla_xlmr_preds, 'label', 'prediction')    # accuracy of always predicting 'AGAINST'"
   ]
  },
  {
   "cell_type": "markdown",
   "metadata": {},
   "source": [
    "### Fine-tuned"
   ]
  },
  {
   "cell_type": "code",
   "execution_count": 14,
   "metadata": {},
   "outputs": [],
   "source": [
    "# model_dir = \"../models/binary_stance_classifier/\"\n",
    "# plot_metrics(model_dir)"
   ]
  },
  {
   "cell_type": "code",
   "execution_count": 15,
   "metadata": {},
   "outputs": [],
   "source": [
    "# Only comments\n",
    "# test_preds = pd.read_csv('../../predictions/xstance_test_preds_finetuned.csv')\n",
    "# compute_accuracy(test_preds, 'label', 'prediction')"
   ]
  },
  {
   "cell_type": "code",
   "execution_count": 16,
   "metadata": {},
   "outputs": [],
   "source": [
    "# Questions + comments\n",
    "ft_preds = pd.read_csv('../predictions/xlmr+xstance_preds.csv')\n",
    "ft_acc = compute_accuracy(ft_preds, 'label', 'prediction')"
   ]
  },
  {
   "cell_type": "code",
   "execution_count": 17,
   "metadata": {},
   "outputs": [
    {
     "data": {
      "image/png": "[encoded data removed]",
      "text/plain": [
       "<Figure size 1200x600 with 1 Axes>"
      ]
     },
     "metadata": {},
     "output_type": "display_data"
    }
   ],
   "source": [
    "ft_preds_by_topics = ft_preds.groupby(['topic', 'language'])[['label', 'prediction']]\\\n",
    "    .apply(lambda x: (x['label'] == x['prediction']).mean())\\\n",
    "    .reset_index()\\\n",
    "    .pivot(index='topic', columns='language', values=0)\n",
    "\n",
    "plot(ft_preds_by_topics)"
   ]
  },
  {
   "cell_type": "markdown",
   "metadata": {},
   "source": [
    "### Translated"
   ]
  },
  {
   "cell_type": "code",
   "execution_count": 39,
   "metadata": {},
   "outputs": [],
   "source": [
    "de2fr_preds = pd.read_csv('../predictions/de2fr_preds.csv')\n",
    "de2fr_acc = compute_accuracy(de2fr_preds, 'label', 'prediction')\n",
    "\n",
    "fr2de_preds = pd.read_csv('../predictions/fr2de_preds.csv')\n",
    "fr2de_acc = compute_accuracy(fr2de_preds, 'label', 'prediction')\n",
    "\n",
    "it2fr_preds = pd.read_csv('../predictions/it2fr_preds.csv')\n",
    "it2fr_acc = compute_accuracy(it2fr_preds, 'label', 'prediction')\n",
    "\n",
    "it2de_preds = pd.read_csv('../predictions/it2de_preds.csv')\n",
    "it2de_acc = compute_accuracy(it2de_preds, 'label', 'prediction')\n",
    "\n",
    "translated_acc = pd.concat([de2fr_acc, fr2de_acc, it2fr_acc, it2de_acc]).reset_index(drop=True).rename(columns={'accuracy': 'acc_trans'})"
   ]
  },
  {
   "cell_type": "code",
   "execution_count": 40,
   "metadata": {},
   "outputs": [],
   "source": [
    "de2fr2de_preds = pd.read_csv('../predictions/de2fr2de_preds.csv')\n",
    "de2fr2de_acc = compute_accuracy(de2fr2de_preds, 'label', 'prediction').assign(trans_description='German → French → German')\n",
    "\n",
    "fr2de2fr_preds = pd.read_csv('../predictions/fr2de2fr_preds.csv')\n",
    "fr2de2fr_acc = compute_accuracy(fr2de2fr_preds, 'label', 'prediction').assign(trans_description='French → German → French')\n",
    "\n",
    "it2fr2it_preds = pd.read_csv('../predictions/it2fr2it_preds.csv')\n",
    "it2fr2it_acc = compute_accuracy(it2fr2it_preds, 'label', 'prediction').assign(trans_description='Italian → French → Italian')\n",
    "\n",
    "it2de2it_preds = pd.read_csv('../predictions/it2de2it_preds.csv')\n",
    "it2de2it_acc = compute_accuracy(it2de2it_preds, 'label', 'prediction').assign(trans_description='Italian → German → Italian')\n",
    "\n",
    "round_trans_preds = pd.concat([de2fr2de_preds, fr2de2fr_preds, it2fr2it_preds, it2de2it_preds])\n",
    "round_translated_acc = pd.concat([de2fr2de_acc, fr2de2fr_acc, it2fr2it_acc, it2de2it_acc]).reset_index(drop=True).rename(columns={'accuracy': 'acc_round-trans'})"
   ]
  },
  {
   "cell_type": "code",
   "execution_count": 41,
   "metadata": {},
   "outputs": [],
   "source": [
    "joint_trans = pd.concat([translated_acc, round_translated_acc.drop(columns=['language'])], axis=1)"
   ]
  },
  {
   "cell_type": "code",
   "execution_count": 42,
   "metadata": {},
   "outputs": [
    {
     "data": {
      "text/html": [
       "<div>\n",
       "<style scoped>\n",
       "    .dataframe tbody tr th:only-of-type {\n",
       "        vertical-align: middle;\n",
       "    }\n",
       "\n",
       "    .dataframe tbody tr th {\n",
       "        vertical-align: top;\n",
       "    }\n",
       "\n",
       "    .dataframe thead th {\n",
       "        text-align: right;\n",
       "    }\n",
       "</style>\n",
       "<table border=\"1\" class=\"dataframe\">\n",
       "  <thead>\n",
       "    <tr style=\"text-align: right;\">\n",
       "      <th></th>\n",
       "      <th>language</th>\n",
       "      <th>acc_base</th>\n",
       "      <th>acc_ft</th>\n",
       "      <th>acc_trans</th>\n",
       "      <th>acc_round-trans</th>\n",
       "      <th>trans_description</th>\n",
       "    </tr>\n",
       "  </thead>\n",
       "  <tbody>\n",
       "    <tr>\n",
       "      <th>0</th>\n",
       "      <td>de</td>\n",
       "      <td>0.494660</td>\n",
       "      <td>0.723825</td>\n",
       "      <td>0.670171</td>\n",
       "      <td>0.663863</td>\n",
       "      <td>German → French → German</td>\n",
       "    </tr>\n",
       "    <tr>\n",
       "      <th>1</th>\n",
       "      <td>fr</td>\n",
       "      <td>0.456502</td>\n",
       "      <td>0.765797</td>\n",
       "      <td>0.695284</td>\n",
       "      <td>0.692079</td>\n",
       "      <td>French → German → French</td>\n",
       "    </tr>\n",
       "    <tr>\n",
       "      <th>2</th>\n",
       "      <td>it</td>\n",
       "      <td>0.460581</td>\n",
       "      <td>0.735823</td>\n",
       "      <td>0.727524</td>\n",
       "      <td>0.690871</td>\n",
       "      <td>Italian → French → Italian</td>\n",
       "    </tr>\n",
       "    <tr>\n",
       "      <th>3</th>\n",
       "      <td>it</td>\n",
       "      <td>0.460581</td>\n",
       "      <td>0.735823</td>\n",
       "      <td>0.691563</td>\n",
       "      <td>0.677732</td>\n",
       "      <td>Italian → German → Italian</td>\n",
       "    </tr>\n",
       "  </tbody>\n",
       "</table>\n",
       "</div>"
      ],
      "text/plain": [
       "  language  acc_base    acc_ft  acc_trans  acc_round-trans  \\\n",
       "0       de  0.494660  0.723825   0.670171         0.663863   \n",
       "1       fr  0.456502  0.765797   0.695284         0.692079   \n",
       "2       it  0.460581  0.735823   0.727524         0.690871   \n",
       "3       it  0.460581  0.735823   0.691563         0.677732   \n",
       "\n",
       "            trans_description  \n",
       "0    German → French → German  \n",
       "1    French → German → French  \n",
       "2  Italian → French → Italian  \n",
       "3  Italian → German → Italian  "
      ]
     },
     "execution_count": 42,
     "metadata": {},
     "output_type": "execute_result"
    }
   ],
   "source": [
    "# All accuracies\n",
    "\n",
    "bi_acc = reduce(lambda left, right: pd.merge(left, right, on='language'), [\n",
    "    vanilla_xlmr_acc.rename(columns={'accuracy': 'acc_base'}),\n",
    "    ft_acc.rename(columns={'accuracy': 'acc_ft'}),\n",
    "    joint_trans\n",
    "])\n",
    "\n",
    "bi_acc"
   ]
  },
  {
   "cell_type": "markdown",
   "metadata": {},
   "source": [
    "### Error Analysis\n",
    "**Question:** How many times has the stance changed and in which direction?"
   ]
  },
  {
   "cell_type": "code",
   "execution_count": 43,
   "metadata": {},
   "outputs": [
    {
     "data": {
      "text/html": [
       "<div>\n",
       "<style scoped>\n",
       "    .dataframe tbody tr th:only-of-type {\n",
       "        vertical-align: middle;\n",
       "    }\n",
       "\n",
       "    .dataframe tbody tr th {\n",
       "        vertical-align: top;\n",
       "    }\n",
       "\n",
       "    .dataframe thead th {\n",
       "        text-align: right;\n",
       "    }\n",
       "</style>\n",
       "<table border=\"1\" class=\"dataframe\">\n",
       "  <thead>\n",
       "    <tr style=\"text-align: right;\">\n",
       "      <th></th>\n",
       "      <th>language</th>\n",
       "      <th>ErrRate (%)</th>\n",
       "      <th>FP (%)</th>\n",
       "      <th>FN (%)</th>\n",
       "      <th>ErrRate_CI</th>\n",
       "      <th>FP_CI</th>\n",
       "      <th>FN_CI</th>\n",
       "    </tr>\n",
       "  </thead>\n",
       "  <tbody>\n",
       "    <tr>\n",
       "      <th>0</th>\n",
       "      <td>de</td>\n",
       "      <td>27.62</td>\n",
       "      <td>14.19</td>\n",
       "      <td>13.43</td>\n",
       "      <td>[26.81, 28.42]</td>\n",
       "      <td>[13.56, 14.81]</td>\n",
       "      <td>[12.82, 14.04]</td>\n",
       "    </tr>\n",
       "    <tr>\n",
       "      <th>1</th>\n",
       "      <td>fr</td>\n",
       "      <td>23.42</td>\n",
       "      <td>12.71</td>\n",
       "      <td>10.71</td>\n",
       "      <td>[22.16, 24.68]</td>\n",
       "      <td>[11.72, 13.69]</td>\n",
       "      <td>[9.8, 11.63]</td>\n",
       "    </tr>\n",
       "    <tr>\n",
       "      <th>2</th>\n",
       "      <td>it</td>\n",
       "      <td>26.42</td>\n",
       "      <td>13.83</td>\n",
       "      <td>12.59</td>\n",
       "      <td>[24.15, 28.69]</td>\n",
       "      <td>[12.05, 15.61]</td>\n",
       "      <td>[10.88, 14.3]</td>\n",
       "    </tr>\n",
       "  </tbody>\n",
       "</table>\n",
       "</div>"
      ],
      "text/plain": [
       "  language  ErrRate (%)  FP (%)  FN (%)      ErrRate_CI           FP_CI  \\\n",
       "0       de        27.62   14.19   13.43  [26.81, 28.42]  [13.56, 14.81]   \n",
       "1       fr        23.42   12.71   10.71  [22.16, 24.68]  [11.72, 13.69]   \n",
       "2       it        26.42   13.83   12.59  [24.15, 28.69]  [12.05, 15.61]   \n",
       "\n",
       "            FN_CI  \n",
       "0  [12.82, 14.04]  \n",
       "1    [9.8, 11.63]  \n",
       "2   [10.88, 14.3]  "
      ]
     },
     "execution_count": 43,
     "metadata": {},
     "output_type": "execute_result"
    }
   ],
   "source": [
    "ft_err_rates = analyze_errors(ft_preds, 'label', 'prediction', group_cols='language', compute_ci=True)\n",
    "ft_err_rates"
   ]
  },
  {
   "cell_type": "code",
   "execution_count": 46,
   "metadata": {},
   "outputs": [
    {
     "data": {
      "text/html": [
       "<div>\n",
       "<style scoped>\n",
       "    .dataframe tbody tr th:only-of-type {\n",
       "        vertical-align: middle;\n",
       "    }\n",
       "\n",
       "    .dataframe tbody tr th {\n",
       "        vertical-align: top;\n",
       "    }\n",
       "\n",
       "    .dataframe thead th {\n",
       "        text-align: right;\n",
       "    }\n",
       "</style>\n",
       "<table border=\"1\" class=\"dataframe\">\n",
       "  <thead>\n",
       "    <tr style=\"text-align: right;\">\n",
       "      <th></th>\n",
       "      <th>language</th>\n",
       "      <th>ErrRate (%)</th>\n",
       "      <th>FP (%)</th>\n",
       "      <th>FN (%)</th>\n",
       "      <th>ErrRate_CI</th>\n",
       "      <th>FP_CI</th>\n",
       "      <th>FN_CI</th>\n",
       "      <th>trans_description</th>\n",
       "    </tr>\n",
       "  </thead>\n",
       "  <tbody>\n",
       "    <tr>\n",
       "      <th>0</th>\n",
       "      <td>de</td>\n",
       "      <td>32.98</td>\n",
       "      <td>18.55</td>\n",
       "      <td>14.43</td>\n",
       "      <td>[32.14, 33.83]</td>\n",
       "      <td>[17.85, 19.25]</td>\n",
       "      <td>[13.8, 15.06]</td>\n",
       "      <td>German → French</td>\n",
       "    </tr>\n",
       "    <tr>\n",
       "      <th>1</th>\n",
       "      <td>fr</td>\n",
       "      <td>30.47</td>\n",
       "      <td>17.35</td>\n",
       "      <td>13.12</td>\n",
       "      <td>[29.11, 31.84]</td>\n",
       "      <td>[16.23, 18.48]</td>\n",
       "      <td>[12.12, 14.12]</td>\n",
       "      <td>French → German</td>\n",
       "    </tr>\n",
       "    <tr>\n",
       "      <th>2</th>\n",
       "      <td>it</td>\n",
       "      <td>27.25</td>\n",
       "      <td>14.45</td>\n",
       "      <td>12.79</td>\n",
       "      <td>[24.95, 29.54]</td>\n",
       "      <td>[12.64, 16.27]</td>\n",
       "      <td>[11.07, 14.52]</td>\n",
       "      <td>Italian → French</td>\n",
       "    </tr>\n",
       "    <tr>\n",
       "      <th>3</th>\n",
       "      <td>it</td>\n",
       "      <td>30.84</td>\n",
       "      <td>16.18</td>\n",
       "      <td>14.66</td>\n",
       "      <td>[28.46, 33.22]</td>\n",
       "      <td>[14.28, 18.08]</td>\n",
       "      <td>[12.84, 16.48]</td>\n",
       "      <td>Italian → German</td>\n",
       "    </tr>\n",
       "  </tbody>\n",
       "</table>\n",
       "</div>"
      ],
      "text/plain": [
       "  language  ErrRate (%)  FP (%)  FN (%)      ErrRate_CI           FP_CI  \\\n",
       "0       de        32.98   18.55   14.43  [32.14, 33.83]  [17.85, 19.25]   \n",
       "1       fr        30.47   17.35   13.12  [29.11, 31.84]  [16.23, 18.48]   \n",
       "2       it        27.25   14.45   12.79  [24.95, 29.54]  [12.64, 16.27]   \n",
       "3       it        30.84   16.18   14.66  [28.46, 33.22]  [14.28, 18.08]   \n",
       "\n",
       "            FN_CI trans_description  \n",
       "0   [13.8, 15.06]   German → French  \n",
       "1  [12.12, 14.12]   French → German  \n",
       "2  [11.07, 14.52]  Italian → French  \n",
       "3  [12.84, 16.48]  Italian → German  "
      ]
     },
     "execution_count": 46,
     "metadata": {},
     "output_type": "execute_result"
    }
   ],
   "source": [
    "de2fr_err = analyze_errors(de2fr_preds, 'label', 'prediction', group_cols='language', compute_ci=True).assign(trans_description='German → French')\n",
    "fr2de_err = analyze_errors(fr2de_preds, 'label', 'prediction', group_cols='language', compute_ci=True).assign(trans_description='French → German')\n",
    "it2fr_err = analyze_errors(it2fr_preds, 'label', 'prediction', group_cols='language', compute_ci=True).assign(trans_description='Italian → French')\n",
    "it2de_err = analyze_errors(it2de_preds, 'label', 'prediction', group_cols='language', compute_ci=True).assign(trans_description='Italian → German')\n",
    "\n",
    "trans_err_rates = pd.concat([de2fr_err, fr2de_err, it2fr_err, it2de_err]).reset_index(drop=True)\n",
    "trans_err_rates"
   ]
  },
  {
   "cell_type": "code",
   "execution_count": 47,
   "metadata": {},
   "outputs": [
    {
     "data": {
      "text/html": [
       "<div>\n",
       "<style scoped>\n",
       "    .dataframe tbody tr th:only-of-type {\n",
       "        vertical-align: middle;\n",
       "    }\n",
       "\n",
       "    .dataframe tbody tr th {\n",
       "        vertical-align: top;\n",
       "    }\n",
       "\n",
       "    .dataframe thead th {\n",
       "        text-align: right;\n",
       "    }\n",
       "</style>\n",
       "<table border=\"1\" class=\"dataframe\">\n",
       "  <thead>\n",
       "    <tr style=\"text-align: right;\">\n",
       "      <th></th>\n",
       "      <th>language</th>\n",
       "      <th>ErrRate (%)</th>\n",
       "      <th>FP (%)</th>\n",
       "      <th>FN (%)</th>\n",
       "      <th>ErrRate_CI</th>\n",
       "      <th>FP_CI</th>\n",
       "      <th>FN_CI</th>\n",
       "      <th>trans_description</th>\n",
       "    </tr>\n",
       "  </thead>\n",
       "  <tbody>\n",
       "    <tr>\n",
       "      <th>0</th>\n",
       "      <td>de</td>\n",
       "      <td>33.61</td>\n",
       "      <td>18.80</td>\n",
       "      <td>14.82</td>\n",
       "      <td>[32.76, 34.46]</td>\n",
       "      <td>[18.09, 19.5]</td>\n",
       "      <td>[14.18, 15.46]</td>\n",
       "      <td>German → French → German</td>\n",
       "    </tr>\n",
       "    <tr>\n",
       "      <th>1</th>\n",
       "      <td>fr</td>\n",
       "      <td>30.79</td>\n",
       "      <td>16.96</td>\n",
       "      <td>13.83</td>\n",
       "      <td>[29.42, 32.16]</td>\n",
       "      <td>[15.85, 18.08]</td>\n",
       "      <td>[12.8, 14.85]</td>\n",
       "      <td>French → German → French</td>\n",
       "    </tr>\n",
       "    <tr>\n",
       "      <th>2</th>\n",
       "      <td>it</td>\n",
       "      <td>30.91</td>\n",
       "      <td>17.77</td>\n",
       "      <td>13.14</td>\n",
       "      <td>[28.53, 33.29]</td>\n",
       "      <td>[15.8, 19.74]</td>\n",
       "      <td>[11.4, 14.88]</td>\n",
       "      <td>Italian → French → Italian</td>\n",
       "    </tr>\n",
       "    <tr>\n",
       "      <th>3</th>\n",
       "      <td>it</td>\n",
       "      <td>32.23</td>\n",
       "      <td>19.50</td>\n",
       "      <td>12.72</td>\n",
       "      <td>[29.82, 34.64]</td>\n",
       "      <td>[17.46, 21.54]</td>\n",
       "      <td>[11.01, 14.44]</td>\n",
       "      <td>Italian → German → Italian</td>\n",
       "    </tr>\n",
       "  </tbody>\n",
       "</table>\n",
       "</div>"
      ],
      "text/plain": [
       "  language  ErrRate (%)  FP (%)  FN (%)      ErrRate_CI           FP_CI  \\\n",
       "0       de        33.61   18.80   14.82  [32.76, 34.46]   [18.09, 19.5]   \n",
       "1       fr        30.79   16.96   13.83  [29.42, 32.16]  [15.85, 18.08]   \n",
       "2       it        30.91   17.77   13.14  [28.53, 33.29]   [15.8, 19.74]   \n",
       "3       it        32.23   19.50   12.72  [29.82, 34.64]  [17.46, 21.54]   \n",
       "\n",
       "            FN_CI           trans_description  \n",
       "0  [14.18, 15.46]    German → French → German  \n",
       "1   [12.8, 14.85]    French → German → French  \n",
       "2   [11.4, 14.88]  Italian → French → Italian  \n",
       "3  [11.01, 14.44]  Italian → German → Italian  "
      ]
     },
     "execution_count": 47,
     "metadata": {},
     "output_type": "execute_result"
    }
   ],
   "source": [
    "de2fr2de_err = analyze_errors(de2fr2de_preds, 'label', 'prediction', group_cols='language', compute_ci=True).assign(trans_description='German → French → German')\n",
    "fr2de2fr_err = analyze_errors(fr2de2fr_preds, 'label', 'prediction', group_cols='language', compute_ci=True).assign(trans_description='French → German → French')\n",
    "it2fr2it_err = analyze_errors(it2fr2it_preds, 'label', 'prediction', group_cols='language', compute_ci=True).assign(trans_description='Italian → French → Italian')\n",
    "it2de2it_err = analyze_errors(it2de2it_preds, 'label', 'prediction', group_cols='language', compute_ci=True).assign(trans_description='Italian → German → Italian')\n",
    "\n",
    "round_trans_err_rates = pd.concat([de2fr2de_err, fr2de2fr_err, it2fr2it_err, it2de2it_err]).reset_index(drop=True)\n",
    "round_trans_err_rates"
   ]
  },
  {
   "cell_type": "code",
   "execution_count": 49,
   "metadata": {},
   "outputs": [
    {
     "data": {
      "text/html": [
       "<div>\n",
       "<style scoped>\n",
       "    .dataframe tbody tr th:only-of-type {\n",
       "        vertical-align: middle;\n",
       "    }\n",
       "\n",
       "    .dataframe tbody tr th {\n",
       "        vertical-align: top;\n",
       "    }\n",
       "\n",
       "    .dataframe thead th {\n",
       "        text-align: right;\n",
       "    }\n",
       "</style>\n",
       "<table border=\"1\" class=\"dataframe\">\n",
       "  <thead>\n",
       "    <tr style=\"text-align: right;\">\n",
       "      <th></th>\n",
       "      <th>question_id</th>\n",
       "      <th>topic</th>\n",
       "      <th>ErrRate (%)</th>\n",
       "      <th>FP (%)</th>\n",
       "      <th>FN (%)</th>\n",
       "      <th>ErrRate_CI</th>\n",
       "      <th>FP_CI</th>\n",
       "      <th>FN_CI</th>\n",
       "      <th>n_comments</th>\n",
       "    </tr>\n",
       "  </thead>\n",
       "  <tbody>\n",
       "    <tr>\n",
       "      <th>0</th>\n",
       "      <td>54</td>\n",
       "      <td>Security</td>\n",
       "      <td>52.94</td>\n",
       "      <td>26.47</td>\n",
       "      <td>26.47</td>\n",
       "      <td>[36.16, 69.72]</td>\n",
       "      <td>[11.64, 41.3]</td>\n",
       "      <td>[11.64, 41.3]</td>\n",
       "      <td>34</td>\n",
       "    </tr>\n",
       "    <tr>\n",
       "      <th>1</th>\n",
       "      <td>1488</td>\n",
       "      <td>Security</td>\n",
       "      <td>52.63</td>\n",
       "      <td>36.84</td>\n",
       "      <td>15.79</td>\n",
       "      <td>[30.18, 75.08]</td>\n",
       "      <td>[15.15, 58.53]</td>\n",
       "      <td>[0, 32.19]</td>\n",
       "      <td>19</td>\n",
       "    </tr>\n",
       "    <tr>\n",
       "      <th>2</th>\n",
       "      <td>1490</td>\n",
       "      <td>Security</td>\n",
       "      <td>54.17</td>\n",
       "      <td>0.00</td>\n",
       "      <td>54.17</td>\n",
       "      <td>[34.23, 74.1]</td>\n",
       "      <td>[0, 0.0]</td>\n",
       "      <td>[34.23, 74.1]</td>\n",
       "      <td>24</td>\n",
       "    </tr>\n",
       "  </tbody>\n",
       "</table>\n",
       "</div>"
      ],
      "text/plain": [
       "   question_id     topic  ErrRate (%)  FP (%)  FN (%)      ErrRate_CI  \\\n",
       "0           54  Security        52.94   26.47   26.47  [36.16, 69.72]   \n",
       "1         1488  Security        52.63   36.84   15.79  [30.18, 75.08]   \n",
       "2         1490  Security        54.17    0.00   54.17   [34.23, 74.1]   \n",
       "\n",
       "            FP_CI          FN_CI  n_comments  \n",
       "0   [11.64, 41.3]  [11.64, 41.3]          34  \n",
       "1  [15.15, 58.53]     [0, 32.19]          19  \n",
       "2        [0, 0.0]  [34.23, 74.1]          24  "
      ]
     },
     "execution_count": 49,
     "metadata": {},
     "output_type": "execute_result"
    }
   ],
   "source": [
    "ft_err = analyze_errors(ft_preds, 'label', 'prediction', group_cols=['question_id', 'topic'], compute_ci=True)\n",
    "high_err_rate_ft = ft_err[ft_err['ErrRate (%)'] > 50]\n",
    "n_comments = test[test['question_id'].isin(high_err_rate_ft['question_id'])].groupby('question_id')['comment'].count().reset_index().rename(columns={'comment': 'n_comments'})\n",
    "high_err_rate_ft = pd.merge(high_err_rate_ft, n_comments, on='question_id')\n",
    "high_err_rate_ft"
   ]
  },
  {
   "cell_type": "code",
   "execution_count": 51,
   "metadata": {},
   "outputs": [
    {
     "data": {
      "text/html": [
       "<div>\n",
       "<style scoped>\n",
       "    .dataframe tbody tr th:only-of-type {\n",
       "        vertical-align: middle;\n",
       "    }\n",
       "\n",
       "    .dataframe tbody tr th {\n",
       "        vertical-align: top;\n",
       "    }\n",
       "\n",
       "    .dataframe thead th {\n",
       "        text-align: right;\n",
       "    }\n",
       "</style>\n",
       "<table border=\"1\" class=\"dataframe\">\n",
       "  <thead>\n",
       "    <tr style=\"text-align: right;\">\n",
       "      <th></th>\n",
       "      <th>question_id</th>\n",
       "      <th>topic</th>\n",
       "      <th>ErrRate (%)</th>\n",
       "      <th>FP (%)</th>\n",
       "      <th>FN (%)</th>\n",
       "      <th>ErrRate_CI</th>\n",
       "      <th>FP_CI</th>\n",
       "      <th>FN_CI</th>\n",
       "      <th>n_comments</th>\n",
       "    </tr>\n",
       "  </thead>\n",
       "  <tbody>\n",
       "    <tr>\n",
       "      <th>0</th>\n",
       "      <td>6</td>\n",
       "      <td>Welfare</td>\n",
       "      <td>54.29</td>\n",
       "      <td>37.14</td>\n",
       "      <td>17.14</td>\n",
       "      <td>[37.78, 70.79]</td>\n",
       "      <td>[21.14, 53.15]</td>\n",
       "      <td>[4.66, 29.63]</td>\n",
       "      <td>29</td>\n",
       "    </tr>\n",
       "    <tr>\n",
       "      <th>1</th>\n",
       "      <td>26</td>\n",
       "      <td>Society</td>\n",
       "      <td>57.14</td>\n",
       "      <td>39.29</td>\n",
       "      <td>17.86</td>\n",
       "      <td>[38.81, 75.47]</td>\n",
       "      <td>[21.2, 57.38]</td>\n",
       "      <td>[3.67, 32.04]</td>\n",
       "      <td>22</td>\n",
       "    </tr>\n",
       "    <tr>\n",
       "      <th>2</th>\n",
       "      <td>54</td>\n",
       "      <td>Security</td>\n",
       "      <td>53.49</td>\n",
       "      <td>23.26</td>\n",
       "      <td>30.23</td>\n",
       "      <td>[38.58, 68.4]</td>\n",
       "      <td>[10.63, 35.88]</td>\n",
       "      <td>[16.51, 43.96]</td>\n",
       "      <td>34</td>\n",
       "    </tr>\n",
       "    <tr>\n",
       "      <th>3</th>\n",
       "      <td>1487</td>\n",
       "      <td>Security</td>\n",
       "      <td>54.29</td>\n",
       "      <td>28.57</td>\n",
       "      <td>25.71</td>\n",
       "      <td>[37.78, 70.79]</td>\n",
       "      <td>[13.61, 43.54]</td>\n",
       "      <td>[11.23, 40.19]</td>\n",
       "      <td>28</td>\n",
       "    </tr>\n",
       "    <tr>\n",
       "      <th>4</th>\n",
       "      <td>1490</td>\n",
       "      <td>Security</td>\n",
       "      <td>55.17</td>\n",
       "      <td>6.90</td>\n",
       "      <td>48.28</td>\n",
       "      <td>[37.07, 73.27]</td>\n",
       "      <td>[0, 16.12]</td>\n",
       "      <td>[30.09, 66.46]</td>\n",
       "      <td>24</td>\n",
       "    </tr>\n",
       "  </tbody>\n",
       "</table>\n",
       "</div>"
      ],
      "text/plain": [
       "   question_id     topic  ErrRate (%)  FP (%)  FN (%)      ErrRate_CI  \\\n",
       "0            6   Welfare        54.29   37.14   17.14  [37.78, 70.79]   \n",
       "1           26   Society        57.14   39.29   17.86  [38.81, 75.47]   \n",
       "2           54  Security        53.49   23.26   30.23   [38.58, 68.4]   \n",
       "3         1487  Security        54.29   28.57   25.71  [37.78, 70.79]   \n",
       "4         1490  Security        55.17    6.90   48.28  [37.07, 73.27]   \n",
       "\n",
       "            FP_CI           FN_CI  n_comments  \n",
       "0  [21.14, 53.15]   [4.66, 29.63]          29  \n",
       "1   [21.2, 57.38]   [3.67, 32.04]          22  \n",
       "2  [10.63, 35.88]  [16.51, 43.96]          34  \n",
       "3  [13.61, 43.54]  [11.23, 40.19]          28  \n",
       "4      [0, 16.12]  [30.09, 66.46]          24  "
      ]
     },
     "execution_count": 51,
     "metadata": {},
     "output_type": "execute_result"
    }
   ],
   "source": [
    "rt_err = analyze_errors(round_trans_preds, 'label', 'prediction', group_cols=['question_id', 'topic'], compute_ci=True)\n",
    "high_err_rate_rt = rt_err[rt_err['ErrRate (%)'] > 50]\n",
    "n_comments = test[test['question_id'].isin(high_err_rate_rt['question_id'])].groupby('question_id')['comment'].count().reset_index().rename(columns={'comment': 'n_comments'})\n",
    "high_err_rate_rt = pd.merge(high_err_rate_rt, n_comments, on='question_id')\n",
    "high_err_rate_rt"
   ]
  },
  {
   "cell_type": "code",
   "execution_count": 29,
   "metadata": {},
   "outputs": [
    {
     "data": {
      "text/html": [
       "<div>\n",
       "<style scoped>\n",
       "    .dataframe tbody tr th:only-of-type {\n",
       "        vertical-align: middle;\n",
       "    }\n",
       "\n",
       "    .dataframe tbody tr th {\n",
       "        vertical-align: top;\n",
       "    }\n",
       "\n",
       "    .dataframe thead th {\n",
       "        text-align: right;\n",
       "    }\n",
       "</style>\n",
       "<table border=\"1\" class=\"dataframe\">\n",
       "  <thead>\n",
       "    <tr style=\"text-align: right;\">\n",
       "      <th></th>\n",
       "      <th>language</th>\n",
       "      <th>accuracy</th>\n",
       "    </tr>\n",
       "  </thead>\n",
       "  <tbody>\n",
       "    <tr>\n",
       "      <th>0</th>\n",
       "      <td>de</td>\n",
       "      <td>0.737869</td>\n",
       "    </tr>\n",
       "    <tr>\n",
       "      <th>1</th>\n",
       "      <td>fr</td>\n",
       "      <td>0.757784</td>\n",
       "    </tr>\n",
       "    <tr>\n",
       "      <th>2</th>\n",
       "      <td>it</td>\n",
       "      <td>0.779391</td>\n",
       "    </tr>\n",
       "  </tbody>\n",
       "</table>\n",
       "</div>"
      ],
      "text/plain": [
       "  language  accuracy\n",
       "0       de  0.737869\n",
       "1       fr  0.757784\n",
       "2       it  0.779391"
      ]
     },
     "execution_count": 29,
     "metadata": {},
     "output_type": "execute_result"
    }
   ],
   "source": [
    "# Accuracy of the back_translated inputs with respect to the finetuned model predictions\n",
    "back_trans_preds = pd.concat([de2fr2de_preds, fr2de2fr_preds, it2fr2it_preds])\n",
    "back_trans_preds = pd.merge(back_trans_preds, ft_preds[['id', 'prediction']].rename(columns={'prediction': 'ft_preds'}), on='id')\n",
    "back_trans_acc_wrt_ft_acc = compute_accuracy(back_trans_preds, 'ft_preds', 'prediction')\n",
    "back_trans_acc_wrt_ft_acc"
   ]
  },
  {
   "cell_type": "code",
   "execution_count": 30,
   "metadata": {},
   "outputs": [
    {
     "name": "stdout",
     "output_type": "stream",
     "text": [
      "Where the back-translated predictions differ from the fine-tuned predictions,\n",
      "Number of times the back-translated predictions were correct: 1697\n",
      "Number of times the fine-tuned predictions were correct: 2797\n"
     ]
    }
   ],
   "source": [
    "# Cases where the back-translated predictions differ from the fine-tuned predictions\n",
    "errors_wrt_ft = back_trans_preds[back_trans_preds['prediction'] != back_trans_preds['ft_preds']]\n",
    "print('Where the back-translated predictions differ from the fine-tuned predictions,')\n",
    "\n",
    "# Number of times the back-translated predictions were correct:\n",
    "bt_correct = errors_wrt_ft[errors_wrt_ft['prediction'] == errors_wrt_ft['label']]\n",
    "print('Number of times the back-translated predictions were correct:', len(bt_correct))\n",
    "\n",
    "# Number of times the fine-tuned predictions were correct:\n",
    "ft_correct = errors_wrt_ft[errors_wrt_ft['ft_preds'] == errors_wrt_ft['label']]\n",
    "print('Number of times the fine-tuned predictions were correct:', len(ft_correct))"
   ]
  },
  {
   "cell_type": "code",
   "execution_count": 31,
   "metadata": {},
   "outputs": [
    {
     "name": "stdout",
     "output_type": "stream",
     "text": [
      "Original question: Est-il nécessaire de fermer davantage d’hôpitaux en Suisse pour réduire les coûts de la santé?\n",
      "Original comment: La réduction des coûts de santé doit passer par une meilleure hygiène de vie chez certains groupes de personnes.\n",
      "Back-translated question: Est-il nécessaire de fermer plus d'hôpitaux en Suisse pour réduire les coûts de santé?\n",
      "Back-translated comment: La réduction des coûts de santé doit être réalisée par une meilleure hygiène de vie dans certains groupes de personnes.\n",
      "True label: AGAINST\n",
      "Finetuned model prediction: FAVOR\n",
      "Back-translated model prediction: AGAINST\n",
      "\n",
      "Original question: L'introduction du vote électronique lors des votations et des élections (E-Voting) devrait-elle être poursuivie?\n",
      "Original comment: Surtout les Suisses de l'étranger qui, de fait, peuvent rarement voter.\n",
      "Back-translated question: Le vote électronique devrait-il continuer à être introduit lors des élections et des élections ?\n",
      "Back-translated comment: Les Suisses étrangers, en particulier, qui ne peuvent en fait pas voter.\n",
      "True label: FAVOR\n",
      "Finetuned model prediction: AGAINST\n",
      "Back-translated model prediction: FAVOR\n",
      "\n",
      "Original question: Seriez-vous favorable à la mise en place d’un service citoyen général obligatoire (service militaire, service civil prolongé ou engagement milicien dans la commune) pour les hommes et les femmes?\n",
      "Original comment: Le service civil ne devrait pas être \"prolongé\", ce service citoyen devrait aussi concerner les étrangers établis (permis C)\n",
      "Back-translated question: Vous préconisez l'introduction d'un service civil obligatoire (services militaires, longue durée de service civil ou service militaire dans la commune) pour les hommes et les femmes?\n",
      "Back-translated comment: La Banque centrale de l'Union européenne a la possibilité de prendre la Banque centrale de l'Union européenne.\n",
      "True label: AGAINST\n",
      "Finetuned model prediction: FAVOR\n",
      "Back-translated model prediction: AGAINST\n",
      "\n",
      "Original question: Une initiative demande que les subsides aux assurances maladie soient conçus de manière à ce que personne n'ait à consacrer plus de dix pour cent de son revenu disponible au paiement des primes. Soutenez-vous cette proposition?\n",
      "Original comment: Cela resterait pour moi une mesure transitoire. Pour moi le système d'assurance maladie doit être complètement changé.\n",
      "Back-translated question: Une initiative demande que les subventions d'assurance maladie soient conçues de manière à ce que personne ne dépense plus de 10% de son revenu disponible pour payer des primes.\n",
      "Back-translated comment: Je crois que l'assurance maladie doit être complètement changée.\n",
      "True label: FAVOR\n",
      "Finetuned model prediction: AGAINST\n",
      "Back-translated model prediction: FAVOR\n",
      "\n",
      "Original question: Une initiative demande que les subsides aux assurances maladie soient conçus de manière à ce que personne n'ait à consacrer plus de dix pour cent de son revenu disponible au paiement des primes. Soutenez-vous cette proposition?\n",
      "Original comment: Plus le revenu est faible, plus le montant de la prime pèse sur le revenu disponible raison pour laquelle plus le revenu disponible est bas, plus l’abattement devrait être important.\n",
      "Back-translated question: Une initiative demande que les subventions d'assurance maladie soient conçues de manière à ce que personne ne dépense plus de 10% de son revenu disponible pour payer des primes.\n",
      "Back-translated comment: Plus le revenu est faible, plus le montant des primes sur le revenu disponible est élevé.\n",
      "True label: AGAINST\n",
      "Finetuned model prediction: FAVOR\n",
      "Back-translated model prediction: AGAINST\n",
      "\n"
     ]
    }
   ],
   "source": [
    "for _, row in bt_correct[bt_correct['language'] == 'fr'].sample(5).iterrows():\n",
    "    print(f\"Original question: {test[test['id'] == row['id']]['question'].iloc[0]}\")\n",
    "    print(f\"Original comment: {test[test['id'] == row['id']]['comment'].iloc[0]}\")\n",
    "    print(f\"Back-translated question: {row['question']}\")\n",
    "    print(f\"Back-translated comment: {row['comment']}\")\n",
    "    print(f\"True label: {row['label']}\")\n",
    "    print(f\"Finetuned model prediction: {row['ft_preds']}\")\n",
    "    print(f\"Back-translated model prediction: {row['prediction']}\")\n",
    "    print()"
   ]
  },
  {
   "cell_type": "code",
   "execution_count": 32,
   "metadata": {},
   "outputs": [
    {
     "name": "stdout",
     "output_type": "stream",
     "text": [
      "Original question: Seriez-vous favorables à un plan hospitalier national qui pourrait également mener à la fermeture de certains hôpitaux?\n",
      "Original comment: Cette question est mal tournée, car il faut savoir s'il s'agit d'hôpitaux publics ou privés. Moi je suis pour la préservation d'un service de santé public de bonne qualité et de proximité, accessible à tout en chacun, la santé n'est pas une marchandise de luxe, c'est un doit pour tous.\n",
      "Back-translated question: Soutiendrez-vous un plan national d'hôpitaux qui pourrait également entraîner la fermeture de certains hôpitaux?\n",
      "Back-translated comment: La Commission estime que la Commission a la possibilité d'aider les États membres, les États membres et les États membres qui sont utilisés dans leur cadre pour mettre en œuvre la directive sur les soins de santé et les soins de santé de protection de la santé.\n",
      "True label: AGAINST\n",
      "Finetuned model prediction: AGAINST\n",
      "Back-translated model prediction: FAVOR\n",
      "\n",
      "Original question: Une initiative demande que les subsides aux assurances maladie soient conçus de manière à ce que personne n'ait à consacrer plus de dix pour cent de son revenu disponible au paiement des primes. Soutenez-vous cette proposition?\n",
      "Original comment: Cette initiative ne règle pas la problématique du coût de la santé. Elle ferait, au contraire, supporter les coûts de la santé par une partie uniquement des assurés sans responsabiliser l'ensemble. Il faut agir sur les coûts plutôt que sur les primes.\n",
      "Back-translated question: Une initiative demande que les subventions d'assurance maladie soient conçues de manière à ce que personne ne dépense plus de 10% de son revenu disponible pour payer des primes.\n",
      "Back-translated comment: La Commission a communiqué avec la Commission comment elle prend en compte les coûts de mise en œuvre de mesures visant à améliorer les politiques de santé et de protection de la santé dans les États membres.\n",
      "True label: AGAINST\n",
      "Finetuned model prediction: AGAINST\n",
      "Back-translated model prediction: FAVOR\n",
      "\n",
      "Original question: Une initiative demande que les subsides aux assurances maladie soient conçus de manière à ce que personne n'ait à consacrer plus de dix pour cent de son revenu disponible au paiement des primes. Soutenez-vous cette proposition?\n",
      "Original comment: Cela n'offre aucune solution de fonds. Il faut plutôt lutter contre le prix excessif des médicaments et réaliser une caisse unique. Celle-ci permet une prévision des risques et donc une planification des coûts plus proches de la réalité. La caisse unique permet aussi une économie d'échelle en supprimant les coûts administratifs engendrés par la multiplicité des caisses.\n",
      "Back-translated question: Une initiative demande que les subventions d'assurance maladie soient conçues de manière à ce que personne ne dépense plus de 10% de son revenu disponible pour payer des primes.\n",
      "Back-translated comment: La Commission a mis en place, en coopération avec les États membres et les États membres, un nouveau système d'amélioration de la qualité des médicaments et de la qualité des médicaments dans les États membres.\n",
      "True label: AGAINST\n",
      "Finetuned model prediction: AGAINST\n",
      "Back-translated model prediction: FAVOR\n",
      "\n",
      "Original question: Une initiative souhaite donner à la Confédération plus de compétences pour prendre des mesures permettant la diminution des coûts de la santé (introduction d'un frein aux coûts). Êtes-vous en faveur de cette proposition?\n",
      "Original comment: Oui pour autant que les mesures ne conduisent pas à une médecine à plusieurs vitesses.\n",
      "Back-translated question: Une initiative qui donne plus de compétence à la Confédération pour prendre des mesures visant à réduire les coûts de santé (introduire un frein des coûts).\n",
      "Back-translated comment: Oui, mais les mesures ne conduisent pas à une médecine à grande vitesse.\n",
      "True label: FAVOR\n",
      "Finetuned model prediction: FAVOR\n",
      "Back-translated model prediction: AGAINST\n",
      "\n",
      "Original question: Approuveriez-vous le principe du consentement présumé pour le don d’organes?\n",
      "Original comment: Le don d'organe ne doit pas être un fait légiféré  dans un sens systématique; on devrait plutôt laisser un consentement ( volontaire) appartenir à tout donneur et dans le cas où le donneur n'est pas en mesure de s'exprimer, il reviendra à ses proches parents de se prononcer\n",
      "Back-translated question: Vous soutiendrez le principe de l'acceptation présumée du don d'organes?\n",
      "Back-translated comment: Le don d'organes ne doit pas être systématiquement statué par la loi, mais doit être approuvé (volontairement) par chaque donneur, et si le donneur n'est pas en mesure de s'exprimer, il est confié à son parent le plus proche de s'exprimer.\n",
      "True label: AGAINST\n",
      "Finetuned model prediction: AGAINST\n",
      "Back-translated model prediction: FAVOR\n",
      "\n"
     ]
    }
   ],
   "source": [
    "for _, row in ft_correct[ft_correct['language'] == 'fr'].sample(5).iterrows():\n",
    "    print(f\"Original question: {test[test['id'] == row['id']]['question'].iloc[0]}\")\n",
    "    print(f\"Original comment: {test[test['id'] == row['id']]['comment'].iloc[0]}\")\n",
    "    print(f\"Back-translated question: {row['question']}\")\n",
    "    print(f\"Back-translated comment: {row['comment']}\")\n",
    "    print(f\"True label: {row['label']}\")\n",
    "    print(f\"Finetuned model prediction: {row['ft_preds']}\")\n",
    "    print(f\"Back-translated model prediction: {row['prediction']}\")\n",
    "    print()"
   ]
  },
  {
   "cell_type": "markdown",
   "metadata": {},
   "source": [
    "### Control for Topic"
   ]
  },
  {
   "cell_type": "code",
   "execution_count": null,
   "metadata": {},
   "outputs": [],
   "source": [
    "# ub_preds = pd.read_csv('../predictions/ub_preds.csv')\n",
    "# filtered_train = pd.read_json('../data/xstance/filtered_train.jsonl', lines=True)\n",
    "# ub_preds = ub_preds[ub_preds['topic'].isin(filtered_train['topic'].unique())]\n",
    "\n",
    "# ub_acc = compute_accuracy(ub_preds, 'label', 'prediction')\n",
    "\n",
    "# ub_bal = balance_df(ub_preds, ['language', 'label'])\n",
    "# ub_bal_acc = compute_accuracy(ub_bal, 'label', 'prediction')"
   ]
  },
  {
   "cell_type": "markdown",
   "metadata": {},
   "source": [
    "---\n",
    "## Multi-class"
   ]
  },
  {
   "cell_type": "markdown",
   "metadata": {},
   "source": [
    "### Baseline"
   ]
  },
  {
   "cell_type": "code",
   "execution_count": 39,
   "metadata": {},
   "outputs": [],
   "source": [
    "multi_base_preds = pd.read_csv('../predictions/multi_baseline_preds.csv')\n",
    "multi_base_acc = compute_accuracy(multi_base_preds, 'numerical_label', 'prediction')"
   ]
  },
  {
   "cell_type": "markdown",
   "metadata": {},
   "source": [
    "### Fine-tuned"
   ]
  },
  {
   "cell_type": "code",
   "execution_count": 40,
   "metadata": {},
   "outputs": [],
   "source": [
    "# Micro Average\n",
    "# model_dir = \"../models/multi_micro_stance_classifier/\"\n",
    "# plot_metrics(model_dir)"
   ]
  },
  {
   "cell_type": "code",
   "execution_count": 41,
   "metadata": {},
   "outputs": [],
   "source": [
    "multi_micro_preds = pd.read_csv('../predictions/multi_micro_preds.csv')\n",
    "multi_micro_acc = compute_accuracy(multi_micro_preds, 'numerical_label', 'prediction')"
   ]
  },
  {
   "cell_type": "code",
   "execution_count": 42,
   "metadata": {},
   "outputs": [],
   "source": [
    "# Macro Average\n",
    "# model_dir = \"../models/multi_macro_stance_classifier/\"\n",
    "# plot_metrics(model_dir)"
   ]
  },
  {
   "cell_type": "code",
   "execution_count": 43,
   "metadata": {},
   "outputs": [],
   "source": [
    "multi_macro_preds = pd.read_csv('../predictions/multi_macro_preds.csv')\n",
    "multi_macro_acc = compute_accuracy(multi_macro_preds, 'numerical_label', 'prediction')"
   ]
  },
  {
   "cell_type": "code",
   "execution_count": 44,
   "metadata": {},
   "outputs": [
    {
     "data": {
      "text/html": [
       "<div>\n",
       "<style scoped>\n",
       "    .dataframe tbody tr th:only-of-type {\n",
       "        vertical-align: middle;\n",
       "    }\n",
       "\n",
       "    .dataframe tbody tr th {\n",
       "        vertical-align: top;\n",
       "    }\n",
       "\n",
       "    .dataframe thead th {\n",
       "        text-align: right;\n",
       "    }\n",
       "</style>\n",
       "<table border=\"1\" class=\"dataframe\">\n",
       "  <thead>\n",
       "    <tr style=\"text-align: right;\">\n",
       "      <th></th>\n",
       "      <th>language</th>\n",
       "      <th>baseline</th>\n",
       "      <th>finetuned_MicroAvg</th>\n",
       "      <th>finetuned_MacroAvg</th>\n",
       "    </tr>\n",
       "  </thead>\n",
       "  <tbody>\n",
       "    <tr>\n",
       "      <th>0</th>\n",
       "      <td>de</td>\n",
       "      <td>0.282062</td>\n",
       "      <td>0.503574</td>\n",
       "      <td>0.494660</td>\n",
       "    </tr>\n",
       "    <tr>\n",
       "      <th>1</th>\n",
       "      <td>fr</td>\n",
       "      <td>0.304945</td>\n",
       "      <td>0.543040</td>\n",
       "      <td>0.523352</td>\n",
       "    </tr>\n",
       "    <tr>\n",
       "      <th>2</th>\n",
       "      <td>it</td>\n",
       "      <td>0.269018</td>\n",
       "      <td>0.508299</td>\n",
       "      <td>0.499308</td>\n",
       "    </tr>\n",
       "  </tbody>\n",
       "</table>\n",
       "</div>"
      ],
      "text/plain": [
       "  language  baseline  finetuned_MicroAvg  finetuned_MacroAvg\n",
       "0       de  0.282062            0.503574            0.494660\n",
       "1       fr  0.304945            0.543040            0.523352\n",
       "2       it  0.269018            0.508299            0.499308"
      ]
     },
     "execution_count": 44,
     "metadata": {},
     "output_type": "execute_result"
    }
   ],
   "source": [
    "# All accuracies\n",
    "\n",
    "multi_acc = reduce(lambda left, right: pd.merge(left, right, on='language'), [\n",
    "    multi_base_acc.rename(columns={'accuracy': 'baseline'}),\n",
    "    multi_micro_acc.rename(columns={'accuracy': 'finetuned_MicroAvg'}),\n",
    "    multi_macro_acc.rename(columns={'accuracy': 'finetuned_MacroAvg'})\n",
    "])\n",
    "multi_acc"
   ]
  }
 ],
 "metadata": {
  "kernelspec": {
   "display_name": "Python 3 (ipykernel)",
   "language": "python",
   "name": "python3"
  },
  "language_info": {
   "codemirror_mode": {
    "name": "ipython",
    "version": 3
   },
   "file_extension": ".py",
   "mimetype": "text/x-python",
   "name": "python",
   "nbconvert_exporter": "python",
   "pygments_lexer": "ipython3",
   "version": "3.9.16"
  }
 },
 "nbformat": 4,
 "nbformat_minor": 4
}
